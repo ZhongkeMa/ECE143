{
 "cells": [
  {
   "cell_type": "code",
   "execution_count": 58,
   "metadata": {
    "collapsed": false
   },
   "outputs": [],
   "source": [
    "import pandas as pd\n",
    "import numpy as py\n",
    "import string\n",
    "import wordcloud\n",
    "import matplotlib.pyplot as plt\n",
    "from wordcloud import WordCloud\n",
    "from stop_words import get_stop_words\n"
   ]
  },
  {
   "cell_type": "code",
   "execution_count": 2,
   "metadata": {
    "collapsed": false
   },
   "outputs": [
    {
     "name": "stderr",
     "output_type": "stream",
     "text": [
      "b'Skipping line 1564: expected 12 fields, saw 35\\nSkipping line 1914: expected 12 fields, saw 13\\nSkipping line 4055: expected 12 fields, saw 38\\nSkipping line 8715: expected 12 fields, saw 17\\nSkipping line 10089: expected 12 fields, saw 18\\nSkipping line 10683: expected 12 fields, saw 15\\nSkipping line 13947: expected 12 fields, saw 13\\nSkipping line 13982: expected 12 fields, saw 13\\nSkipping line 15642: expected 12 fields, saw 13\\nSkipping line 17411: expected 12 fields, saw 13\\nSkipping line 17542: expected 12 fields, saw 23\\nSkipping line 18214: expected 12 fields, saw 13\\nSkipping line 18225: expected 12 fields, saw 13\\nSkipping line 18374: expected 12 fields, saw 40\\n'\n"
     ]
    },
    {
     "name": "stdout",
     "output_type": "stream",
     "text": [
      "Index(['country_code', 'date_added', 'job_board', 'job_description',\n",
      "       'job_title', 'job_type', 'location', 'organization', 'page_url',\n",
      "       'phone_number', 'salary', 'sector'],\n",
      "      dtype='object')\n"
     ]
    }
   ],
   "source": [
    "file=pd.read_csv('Dice_US_jobs_utf81.csv',error_bad_lines=False)\n",
    "print(file.columns)"
   ]
  },
  {
   "cell_type": "code",
   "execution_count": 16,
   "metadata": {
    "collapsed": false
   },
   "outputs": [
    {
     "data": {
      "text/plain": [
       "['Microsoft', 'Dynamics', 'AX', 'Project', 'Manager']"
      ]
     },
     "execution_count": 16,
     "metadata": {},
     "output_type": "execute_result"
    }
   ],
   "source": [
    "type(string.punctuation)\n",
    "temp='Microsoft Dynamics AX, Project Manager'\n",
    "temp=temp.translate(str.maketrans('', '', string.punctuation))\n",
    "temp.split()"
   ]
  },
  {
   "cell_type": "code",
   "execution_count": 20,
   "metadata": {
    "collapsed": false
   },
   "outputs": [],
   "source": [
    "word_freq={}\n",
    "for job in file['job_title']:\n",
    "    try:\n",
    "        job=job.translate(str.maketrans('', '', string.punctuation))\n",
    "        words=job.split()\n",
    "        for word in words:\n",
    "            if word in word_freq:\n",
    "                word_freq[word]=word_freq[word]+1\n",
    "            else:\n",
    "                word_freq[word]=1\n",
    "    except:\n",
    "        pass\n"
   ]
  },
  {
   "cell_type": "code",
   "execution_count": 52,
   "metadata": {
    "collapsed": false
   },
   "outputs": [
    {
     "name": "stdout",
     "output_type": "stream",
     "text": [
      "{'Network': 676, 'Senior': 2485, 'Support': 655, 'Developer': 4834, 'Java': 959, 'Sr': 1176, 'SAP': 359, 'Software': 1907, 'Technical': 513, 'Engineer': 5295, 'and': 329, 'Technician': 379, 'End': 337, 'Business': 818, 'Administrator': 760, 'QA': 344, 'IT': 541, 'C': 343, 'Security': 623, 'Manager': 1528, 'Full': 339, 'Analyst': 1970, 'in': 320, 'Systems': 966, 'Data': 819, 'Specialist': 447, 'Front': 339, 'Net': 298, 'DevOps': 293, 'Project': 900, 'Web': 541, 'NET': 478, 'Oracle': 307, 'Consultant': 577, 'Lead': 887, 'with': 487, 'Application': 442, 'Stack': 294, 'Development': 278, 'Architect': 938}\n"
     ]
    }
   ],
   "source": [
    "most_freq=sorted(word_freq.items(),key=lambda x: x[1],reverse=True)[0:40]\n",
    "most_freq=dict(most_freq)\n",
    "print(dict(most_freq))"
   ]
  },
  {
   "cell_type": "code",
   "execution_count": 54,
   "metadata": {
    "collapsed": false
   },
   "outputs": [
    {
     "data": {
      "image/png": "[encoded data removed]",
      "text/plain": [
       "<Figure size 432x288 with 1 Axes>"
      ]
     },
     "metadata": {},
     "output_type": "display_data"
    }
   ],
   "source": [
    "wc = WordCloud(background_color='white',\n",
    "               width=4000,\n",
    "               height=3200,\n",
    "               ).generate_from_frequencies(most_freq)\n",
    "wc.to_file('jobcloud.png') #保存图片\n",
    "plt.imshow(wc)  #用plt显示图片\n",
    "plt.axis('off') #不显示坐标轴\n",
    "plt.show() #显示图片\n"
   ]
  },
  {
   "cell_type": "code",
   "execution_count": null,
   "metadata": {
    "collapsed": true
   },
   "outputs": [],
   "source": []
  },
  {
   "cell_type": "code",
   "execution_count": null,
   "metadata": {
    "collapsed": true
   },
   "outputs": [],
   "source": []
  },
  {
   "cell_type": "code",
   "execution_count": null,
   "metadata": {
    "collapsed": true
   },
   "outputs": [],
   "source": []
  },
  {
   "cell_type": "code",
   "execution_count": 61,
   "metadata": {
    "collapsed": false
   },
   "outputs": [],
   "source": [
    "requirement_freq={}\n",
    "for job in file['job_description']:\n",
    "    try:\n",
    "        job=job.lower()\n",
    "        job=job.translate(str.maketrans('', '', string.punctuation))\n",
    "        words=job.split()\n",
    "        for word in words:\n",
    "            if word in requirement_freq:\n",
    "                requirement_freq[word]=requirement_freq[word]+1\n",
    "            else:\n",
    "                requirement_freq[word]=1\n",
    "    except:\n",
    "        pass"
   ]
  },
  {
   "cell_type": "code",
   "execution_count": 62,
   "metadata": {
    "collapsed": false
   },
   "outputs": [
    {
     "name": "stdout",
     "output_type": "stream",
     "text": [
      "{'apply': 22101, 'years': 26635, 'support': 19432, 'work': 51838, 'will': 46545, 'knowledge': 19585, 'development': 31626, 'receiving': 12734, 'system': 13052, 'technical': 20167, 'requirements': 14120, 'project': 19616, 'position': 23588, 'employment': 15919, 'security': 13312, 'services': 15123, 'systems': 20493, 'protected': 14784, 'management': 23618, 'opportunity': 13609, 'forward': 13434, 'including': 13628, 'please': 15538, 'must': 15492, 'team': 24483, 'eligibility': 12957, 'software': 24778, 'inc': 14618, 'business': 28673, 'required': 29963, 'new': 13562, 'solutions': 14804, 'click': 12934, 'technology': 13898, 'design': 22367, 'ability': 13355, 'skills': 22050, 'experience': 73942, 'working': 14883, 'data': 25887}\n",
      "212732\n"
     ]
    }
   ],
   "source": [
    "re_freq_no_stopwords={}\n",
    "for temp_req in requirement_freq:\n",
    "    if temp_req not in stop_words:\n",
    "        re_freq_no_stopwords[temp_req]=requirement_freq[temp_req]\n",
    "\n",
    "\n",
    "most_freq_req=sorted(re_freq_no_stopwords.items(),key=lambda x: x[1],reverse=True)[0:40]\n",
    "most_freq_req=dict(most_freq_req)\n",
    "print(dict(most_freq_req))\n",
    "print(len(requirement_freq))"
   ]
  },
  {
   "cell_type": "code",
   "execution_count": 59,
   "metadata": {
    "collapsed": false
   },
   "outputs": [
    {
     "name": "stdout",
     "output_type": "stream",
     "text": [
      "['a', 'about', 'above', 'after', 'again', 'against', 'all', 'am', 'an', 'and', 'any', 'are', \"aren't\", 'as', 'at', 'be', 'because', 'been', 'before', 'being', 'below', 'between', 'both', 'but', 'by', \"can't\", 'cannot', 'could', \"couldn't\", 'did', \"didn't\", 'do', 'does', \"doesn't\", 'doing', \"don't\", 'down', 'during', 'each', 'few', 'for', 'from', 'further', 'had', \"hadn't\", 'has', \"hasn't\", 'have', \"haven't\", 'having', 'he', \"he'd\", \"he'll\", \"he's\", 'her', 'here', \"here's\", 'hers', 'herself', 'him', 'himself', 'his', 'how', \"how's\", 'i', \"i'd\", \"i'll\", \"i'm\", \"i've\", 'if', 'in', 'into', 'is', \"isn't\", 'it', \"it's\", 'its', 'itself', \"let's\", 'me', 'more', 'most', \"mustn't\", 'my', 'myself', 'no', 'nor', 'not', 'of', 'off', 'on', 'once', 'only', 'or', 'other', 'ought', 'our', 'ours', 'ourselves', 'out', 'over', 'own', 'same', \"shan't\", 'she', \"she'd\", \"she'll\", \"she's\", 'should', \"shouldn't\", 'so', 'some', 'such', 'than', 'that', \"that's\", 'the', 'their', 'theirs', 'them', 'themselves', 'then', 'there', \"there's\", 'these', 'they', \"they'd\", \"they'll\", \"they're\", \"they've\", 'this', 'those', 'through', 'to', 'too', 'under', 'until', 'up', 'very', 'was', \"wasn't\", 'we', \"we'd\", \"we'll\", \"we're\", \"we've\", 'were', \"weren't\", 'what', \"what's\", 'when', \"when's\", 'where', \"where's\", 'which', 'while', 'who', \"who's\", 'whom', 'why', \"why's\", 'with', \"won't\", 'would', \"wouldn't\", 'you', \"you'd\", \"you'll\", \"you're\", \"you've\", 'your', 'yours', 'yourself', 'yourselves']\n"
     ]
    }
   ],
   "source": [
    "# stop_words = get_stop_words('en')\n",
    "stop_words = get_stop_words('english')\n",
    "print(stop_words)"
   ]
  }
 ],
 "metadata": {
  "anaconda-cloud": {},
  "kernelspec": {
   "display_name": "Python [default]",
   "language": "python",
   "name": "python3"
  },
  "language_info": {
   "codemirror_mode": {
    "name": "ipython",
    "version": 3
   },
   "file_extension": ".py",
   "mimetype": "text/x-python",
   "name": "python",
   "nbconvert_exporter": "python",
   "pygments_lexer": "ipython3",
   "version": "3.5.2"
  }
 },
 "nbformat": 4,
 "nbformat_minor": 1
}
