{
 "cells": [
  {
   "cell_type": "markdown",
   "metadata": {},
   "source": [
    "## Dataframe Generators\n",
    "\n",
    "`company_vs_tagCount(company, user, qu_count, df_dict)` :  \n",
    "Function to generate pandas dataframe with company vs user vs tag count information for AC solutions  \n",
    "Stores output pandas dataframe as a csv file of the format *../data/company_tag_AC.csv* and *../data/company_tag_AC_count.csv* \n",
    "\n",
    "`submission_vs_tagCount(user, count_dict)` :  \n",
    "Function to generate pandas dataframe with user vs tag count information for AC solutions  \n",
    "Stores output pandas dataframe as a csv file of the format *../data/tag_AC.csv*  \n",
    "\n",
    "`hist_gen(qu_list, parsed_tag, plotter)` :  \n",
    "Utility function to map select list of questions to the corresponding tag counts  \n",
    "\n",
    "\n",
    "##### Folder Format:\n",
    "   **Inputs:**  \n",
    "   *../data/credentials.json*,  \n",
    "   *../data/company_dict.json*,  \n",
    "   *../data/tag_dict.json*,  \n",
    "   *../data/problems_{user}.json*  \n",
    "\n",
    "   **Output:**\n",
    "\n",
    "   *../data/company_tag_AC.csv*,  \n",
    "   *../data/company_tag_AC_count.csv*,  \n",
    "   *../data/tag_AC.csv*\n",
    "   "
   ]
  },
  {
   "cell_type": "code",
   "execution_count": 2,
   "metadata": {},
   "outputs": [],
   "source": [
    "import os\n",
    "import json\n",
    "import pandas as pd"
   ]
  },
  {
   "cell_type": "code",
   "execution_count": 3,
   "metadata": {},
   "outputs": [],
   "source": [
    "def company_vs_tagCount(company, user, qu_count, df_dict):\n",
    "    '''\n",
    "    Function to generate pandas dataframe with company vs user vs tag count information\n",
    "    Args:\n",
    "        company: company name\n",
    "        user: username\n",
    "        qu_count: Dict passed by reference, holds user vs company question count solved\n",
    "        df_dict: Passed by reference, holds company, user, question tag and question count information\n",
    "    Returns:\n",
    "        plotter: Dictionary with tag vs count info for submissions relevant to input company\n",
    "    '''\n",
    "\n",
    "    assert isinstance(company,str) and len(company)>0, 'Please specify valid company name'\n",
    "    assert isinstance(user,str) and len(user)>0, 'Please specify valid user name'\n",
    "\n",
    "    with open('../data/company_dict.json', 'r') as handle:\n",
    "        parsed_company = json.load(handle)\n",
    "    with open('../data/tag_dict.json', 'r') as handle:\n",
    "        parsed_tag = json.load(handle)\n",
    "    with open(f'../data/problems_{user}.json', 'r') as handle:\n",
    "        parsed_userAC = json.load(handle)\n",
    "\n",
    "    list_solved_qus = []\n",
    "    for qu in parsed_userAC['stat_status_pairs']:\n",
    "        #print(page_content['stat_status_pairs'][0]['stat']['question__title'])\n",
    "        if qu['status'] == 'ac': list_solved_qus.append(qu['stat']['question__title_slug'])\n",
    "\n",
    "    list_company_qus = list(parsed_company[company])\n",
    "    #breakpoint()\n",
    "\n",
    "    plotter=dict()\n",
    "    hist_gen_utility(list_solved_qus, parsed_tag, plotter)\n",
    "\n",
    "    #print(f'{user} has solved {len(qu_intersect)} questions relevant to {company}')\n",
    "    qu_count[user][company] = len(list_solved_qus)\n",
    "    df_dict['user'], df_dict['company'], df_dict['tags'], df_dict['count'] = user, company, list(plotter.keys()), list(plotter.values())\n",
    "    #df_dict[user,company] = pd.Series(plotter)\n",
    "    return plotter"
   ]
  },
  {
   "cell_type": "code",
   "execution_count": 4,
   "metadata": {},
   "outputs": [],
   "source": [
    "def submission_vs_company_vs_tagCount(user, count_dict):\n",
    "    '''\n",
    "    Function to generate pandas dataframe with company vs user vs tag count information\n",
    "    Args:\n",
    "        user: username\n",
    "        count_dict: Passed by reference, holds company, user, question tag and question count information\n",
    "    Returns:\n",
    "        plotter: Dictionary with tag vs count info for submissions relevant to user\n",
    "    '''\n",
    "\n",
    "    assert isinstance(company,str) and len(company)>0, 'Please specify valid company name'\n",
    "    assert isinstance(user,str) and len(user)>0, 'Please specify valid user name'\n",
    "\n",
    "    with open('../data/tag_dict.json', 'r') as handle:\n",
    "        parsed_tag = json.load(handle)\n",
    "    with open(f'../data/problems_{user}.json', 'r') as handle:\n",
    "        parsed_userAC = json.load(handle)\n",
    "\n",
    "    list_solved_qus = []\n",
    "    for qu in parsed_userAC['stat_status_pairs']:\n",
    "        #print(page_content['stat_status_pairs'][0]['stat']['question__title'])\n",
    "        if qu['status'] == 'ac': list_solved_qus.append(qu['stat']['question__title_slug'])\n",
    "\n",
    "    plotter=dict()\n",
    "    hist_gen_utility(list_solved_qus, parsed_tag, plotter)\n",
    "    plotter['total'] = len(list_solved_qus)\n",
    "\n",
    "    #print(f'{user} has solved {len(qu_intersect)} questions relevant to {company}')\n",
    "    count_dict['user'], count_dict['tags'], count_dict['count'] = user, list(plotter.keys()), list(plotter.values())\n",
    "    #df_dict[user,company] = pd.Series(plotter)\n",
    "    return plotter\n"
   ]
  },
  {
   "cell_type": "code",
   "execution_count": 5,
   "metadata": {},
   "outputs": [],
   "source": [
    "def hist_gen_utility(qu_list, parsed_tag, plotter):\n",
    "    '''\n",
    "    Generates a histogram (dictionary) of the questions against their topic_tags\n",
    "    Args:\n",
    "        qu_list: List of questions to classify based on tags\n",
    "        parsed_tag: Dictionary with keys as question titles, values as tags\n",
    "        plotter: dictionary with keys as tags and values as count (Passed by reference, output stored in plotter)\n",
    "    '''\n",
    "    with open('../data/tags.txt','r') as file:\n",
    "        content = file.readlines()\n",
    "\n",
    "    for line in content:\n",
    "        line = line.strip()\n",
    "        line_edit = line.replace(' ','')\n",
    "        plotter[line_edit] = 0\n",
    "\n",
    "    for qu in qu_list:\n",
    "        if qu not in parsed_tag.keys():\n",
    "            if 'Misc' not in plotter.keys(): plotter['Misc']=1\n",
    "            else: plotter['Misc']+=1\n",
    "            #print(f'Question {qu} not tagged')\n",
    "        else:\n",
    "            tags = parsed_tag[qu]\n",
    "            #print(tags)\n",
    "            for elem in tags:\n",
    "                if elem in plotter.keys(): plotter[elem]= plotter[elem]+1\n",
    "                else: plotter[elem]=1\n"
   ]
  },
  {
   "cell_type": "code",
   "execution_count": 6,
   "metadata": {},
   "outputs": [],
   "source": [
    "# Main\n",
    "with open('../data/company_dict.json', 'r') as handle:\n",
    "    parsed_company = json.load(handle)\n",
    "with open('../data/credentials.json', 'r') as handle:\n",
    "    parsed_users = json.load(handle)\n"
   ]
  },
  {
   "cell_type": "code",
   "execution_count": 7,
   "metadata": {},
   "outputs": [],
   "source": [
    "# User vs company vs tag count\n",
    "qu_count =dict.fromkeys(parsed_users.keys())\n",
    "for elem in qu_count.keys():\n",
    "    qu_count[elem] = dict.fromkeys(parsed_company.keys())\n",
    "\n",
    "df_dict={'user':None, 'company':None,'tags':None, 'count':None}\n",
    "df = pd.DataFrame(columns = ['user','company','tags','count'])\n",
    "for user in parsed_users.keys():\n",
    "    for company in parsed_company.keys():\n",
    "        plotter = company_vs_tagCount(company, user, qu_count, df_dict)\n",
    "        temp = pd.DataFrame(df_dict, columns = df.columns)\n",
    "        if df.empty: df = temp\n",
    "        else:df = pd.concat([df,temp], ignore_index=True)\n",
    "df.to_csv('../data/company_tag_AC.csv', index=False)\n"
   ]
  },
  {
   "cell_type": "code",
   "execution_count": 8,
   "metadata": {},
   "outputs": [],
   "source": [
    "# User vs tag count\n",
    "\n",
    "index_count = pd.Index(list(parsed_company.keys()), name='company')\n",
    "cols_count= pd.Index(list(parsed_users.keys()), name='user')\n",
    "df_qu_count = pd.DataFrame(qu_count, index = index_count, columns = cols_count)\n",
    "df_qu_count.to_csv('../data/company_tag_AC_count.csv')"
   ]
  },
  {
   "cell_type": "code",
   "execution_count": 9,
   "metadata": {},
   "outputs": [
    {
     "name": "stdout",
     "output_type": "stream",
     "text": [
      "Success\n"
     ]
    }
   ],
   "source": [
    "# User vs tags\n",
    "count_dict = {'user':None,'tag':None,'count':None}\n",
    "count_df = pd.DataFrame(columns = ['user','tags','count'])\n",
    "\n",
    "for user in parsed_users.keys():\n",
    "    plotter = submission_vs_company_vs_tagCount(user, count_dict)\n",
    "    temp = pd.DataFrame(count_dict, columns = count_df.columns)\n",
    "    if count_df.empty: count_df = temp\n",
    "    else: count_df = pd.concat([count_df,temp], ignore_index=True)\n",
    "\n",
    "count_df.to_csv('../data/tag_AC.csv', index=False)\n",
    "print('Success')"
   ]
  },
  {
   "cell_type": "code",
   "execution_count": null,
   "metadata": {},
   "outputs": [],
   "source": []
  }
 ],
 "metadata": {
  "kernelspec": {
   "display_name": "Python 3",
   "language": "python",
   "name": "python3"
  },
  "language_info": {
   "codemirror_mode": {
    "name": "ipython",
    "version": 3
   },
   "file_extension": ".py",
   "mimetype": "text/x-python",
   "name": "python",
   "nbconvert_exporter": "python",
   "pygments_lexer": "ipython3",
   "version": "3.7.3"
  }
 },
 "nbformat": 4,
 "nbformat_minor": 2
}
