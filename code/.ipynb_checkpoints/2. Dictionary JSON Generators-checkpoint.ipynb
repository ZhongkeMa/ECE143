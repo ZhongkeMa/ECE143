{
 "cells": [
  {
   "cell_type": "markdown",
   "metadata": {},
   "source": [
    "## Tag Dictionary Generator\n",
    "\n",
    "This code iterates through list of tags scraped from Leetcode and generates a list of subdirectories with all the questions for each tag/topic.\n",
    "\n",
    "It then creates a dictionary with question names as keys and list of all tags corresponding to each question as the values of this dictionary, and dumps this content into a json file at ../data/tag_dict.json\n",
    "\n",
    "##### Folder Format:\n",
    "   Input: *../tags/output_{tag_name}/{question-number-question-name}*  \n",
    "   Output: *../data/tag_dict.json*\n",
    "   \n",
    "###### Dictionary format:  \n",
    "   keys: question-name  \n",
    "   value: [tag1, tag2 ...]  \n",
    "    "
   ]
  },
  {
   "cell_type": "code",
   "execution_count": 6,
   "metadata": {},
   "outputs": [],
   "source": [
    "import os\n",
    "import json"
   ]
  },
  {
   "cell_type": "code",
   "execution_count": 7,
   "metadata": {},
   "outputs": [
    {
     "name": "stdout",
     "output_type": "stream",
     "text": [
      "Array\n",
      "Backtracking\n",
      "BinaryIndexedTree\n",
      "BinarySearch\n",
      "BinarySearchTree\n",
      "BitManipulation\n",
      "Brainteaser\n",
      "Breadth-firstSearch\n",
      "Depth-firstSearch\n",
      "Design\n",
      "DivideandConquer\n",
      "DynamicProgramming\n",
      "Geometry\n",
      "Graph\n",
      "Greedy\n",
      "HashTable\n",
      "Heap\n",
      "LineSweep\n",
      "LinkedList\n",
      "Math\n",
      "Memoization\n",
      "Minimax\n",
      "OrderedMap\n",
      "Queue\n",
      "Random\n",
      "Recursion\n",
      "RejectionSampling\n",
      "ReservoirSampling\n",
      "SegmentTree\n",
      "SlidingWindow\n",
      "Sort\n",
      "Stack\n",
      "String\n",
      "TopologicalSort\n",
      "Tree\n",
      "Trie\n",
      "TwoPointers\n",
      "UnionFind\n"
     ]
    }
   ],
   "source": [
    "def tag_extractor():\n",
    "    '''\n",
    "    Function to generate dictionary of questions against their tags\n",
    "    Args: None\n",
    "    Returns:\n",
    "        result: list of folders generated with format ../tags/output_{tag_name}, \n",
    "                each with subdirectories holding question names\n",
    "    '''\n",
    "    with open('../data/tags.txt','r') as file:\n",
    "        content = file.readlines()\n",
    "\n",
    "    for line in content:\n",
    "        line = line.strip()\n",
    "        line_edit = line.replace(' ','')\n",
    "        cmd = f'python leetcode-crawler.py output_{line_edit} -t \\\"{line}\\\"'\n",
    "        print(cmd)\n",
    "        os.system(cmd)\n",
    "        #breakpoint()\n",
    "\n",
    "def tag_counter(path):\n",
    "    '''\n",
    "    Function to generate dictionary of questions against their tags\n",
    "    Args:\n",
    "        path: string with valid path to required path directory to traverse\n",
    "    Returns:\n",
    "        result: Dict with keys as question names, values as tags\n",
    "    '''\n",
    "\n",
    "    assert isinstance(path,str) and len(path)>0, 'Please specify valid path'\n",
    "    tag_dir_raw = os.listdir(path)\n",
    "\n",
    "    tag_dict = dict()\n",
    "    for folders in tag_dir_raw:\n",
    "        cur_tag = (folders.split('output_',1)[1]).split('.txt',1)[0]\n",
    "        print(cur_tag)\n",
    "        for elem in os.listdir(os.path.join(path,folders)):\n",
    "            cur_key = ((elem.split('-',1))[1]).strip()\n",
    "            if cur_key not in tag_dict.keys(): tag_dict[cur_key] = (cur_tag,)\n",
    "            else: tag_dict[cur_key]+=(cur_tag,)\n",
    "\n",
    "    with open('../data/tag_dict.json', 'w') as file_json:\n",
    "        json.dump(tag_dict, file_json, indent=2, sort_keys=False)\n",
    "\n",
    "    return tag_dict\n",
    "\n",
    "#tag_extractor()\n",
    "tag_dict = tag_counter('../tags/')\n"
   ]
  },
  {
   "cell_type": "markdown",
   "metadata": {},
   "source": [
    "## Company Dictionary Generator\n",
    "\n",
    "This code iterates through list of links for questions asked within the last 6 months by each company scraped from Leetcode and generates a dictionary with keys as company names and values as list of questions for the company\n",
    "\n",
    "##### Folder Format:\n",
    "   Input: *../company_folder/leetcode_links_company_{name}.txt*  \n",
    "   Output: *../data/company_dict.json*\n",
    "   \n",
    "###### Dictionary format:  \n",
    "   keys: company-name  \n",
    "   value: [question1, question2 ...]  \n",
    "    "
   ]
  },
  {
   "cell_type": "code",
   "execution_count": 10,
   "metadata": {},
   "outputs": [],
   "source": [
    "import os\n",
    "import json"
   ]
  },
  {
   "cell_type": "code",
   "execution_count": 11,
   "metadata": {},
   "outputs": [],
   "source": [
    "def company_qu_maker(path):\n",
    "    '''\n",
    "    Function to generate dictionary of questions for specified company\n",
    "    Args:\n",
    "        path: string with valid path to required company file\n",
    "    Returns:\n",
    "        result: Dict with keys as company names, values as question names\n",
    "    '''\n",
    "\n",
    "    assert isinstance(path,str) and len(path)>0, 'Please specify valid path'\n",
    "    company_dir_raw = os.listdir(path)\n",
    "\n",
    "    company_dict = dict()\n",
    "    for files in company_dir_raw:\n",
    "        with open(os.path.join(path,files), 'rt') as qus_tag:\n",
    "            cur_tag = qus_tag.readlines()\n",
    "        cur_key = (files.split('leetcode_links_company_',1)[1]).split('.txt',1)[0]\n",
    "        for elem in cur_tag:\n",
    "            cur_val = ((elem.split('https://leetcode.com/problems/'))[-1]).strip()\n",
    "            if cur_key not in company_dict.keys(): company_dict[cur_key] = (cur_val,)\n",
    "            else: company_dict[cur_key]+=(cur_val,)\n",
    "\n",
    "    with open('../data/company_dict.json', 'w') as file_json:\n",
    "        json.dump(company_dict, file_json, indent=2, sort_keys=False)\n",
    "\n",
    "    return company_dict\n",
    "\n",
    "company_dict = company_qu_maker('../company_folder/')"
   ]
  },
  {
   "cell_type": "code",
   "execution_count": null,
   "metadata": {},
   "outputs": [],
   "source": []
  }
 ],
 "metadata": {
  "kernelspec": {
   "display_name": "Python 3",
   "language": "python",
   "name": "python3"
  },
  "language_info": {
   "codemirror_mode": {
    "name": "ipython",
    "version": 3
   },
   "file_extension": ".py",
   "mimetype": "text/x-python",
   "name": "python",
   "nbconvert_exporter": "python",
   "pygments_lexer": "ipython3",
   "version": "3.7.3"
  }
 },
 "nbformat": 4,
 "nbformat_minor": 2
}
